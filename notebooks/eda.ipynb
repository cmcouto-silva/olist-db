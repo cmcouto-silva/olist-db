{
 "cells": [
  {
   "cell_type": "markdown",
   "id": "7e05e45f",
   "metadata": {
    "vscode": {
     "languageId": "raw"
    }
   },
   "source": [
    "# Olist E-commerce Data Quality Analysis\n",
    "\n",
    "This notebook demonstrates the key data quality issues found in the Olist dataset that require special handling in our database loader."
   ]
  },
  {
   "cell_type": "code",
   "execution_count": 1,
   "id": "7a1268ba",
   "metadata": {},
   "outputs": [
    {
     "name": "stdout",
     "output_type": "stream",
     "text": [
      "Loaded datasets:\n",
      "  - Order Reviews: 100,000 rows\n",
      "  - Closed Deals: 842 rows\n",
      "  - Sellers: 3,095 rows\n"
     ]
    }
   ],
   "source": [
    "from pathlib import Path\n",
    "\n",
    "import pandas as pd\n",
    "\n",
    "# Load the datasets\n",
    "data_dir = Path(\"../data\")\n",
    "reviews_df = pd.read_csv(data_dir / \"olist-ecommerce\" / \"olist_order_reviews_dataset.csv\")\n",
    "closed_deals_df = pd.read_csv(data_dir / \"olist-marketing-funnel\" / \"olist_closed_deals_dataset.csv\")\n",
    "sellers_df = pd.read_csv(data_dir / \"olist-ecommerce\" / \"olist_sellers_dataset.csv\")\n",
    "\n",
    "print(\"Loaded datasets:\")\n",
    "print(f\"  - Order Reviews: {len(reviews_df):,} rows\")\n",
    "print(f\"  - Closed Deals: {len(closed_deals_df):,} rows\") \n",
    "print(f\"  - Sellers: {len(sellers_df):,} rows\")\n"
   ]
  },
  {
   "cell_type": "markdown",
   "id": "51858872",
   "metadata": {
    "vscode": {
     "languageId": "raw"
    }
   },
   "source": [
    "## Issue 1: Duplicate Review IDs\n",
    "\n",
    "The `order_reviews` dataset has duplicate `review_id` values - the same review ID appears for different orders."
   ]
  },
  {
   "cell_type": "code",
   "execution_count": 2,
   "id": "9a67dfed",
   "metadata": {},
   "outputs": [
    {
     "name": "stdout",
     "output_type": "stream",
     "text": [
      "Review ID Analysis:\n",
      "  - Total reviews: 100,000\n",
      "  - Unique review IDs: 99,173\n",
      "  - Duplicate review IDs: 827\n",
      "  - Duplicate percentage: 0.8%\n",
      "\n",
      "First 10 duplicate review_ids:\n"
     ]
    },
    {
     "data": {
      "text/html": [
       "<div>\n",
       "<style scoped>\n",
       "    .dataframe tbody tr th:only-of-type {\n",
       "        vertical-align: middle;\n",
       "    }\n",
       "\n",
       "    .dataframe tbody tr th {\n",
       "        vertical-align: top;\n",
       "    }\n",
       "\n",
       "    .dataframe thead th {\n",
       "        text-align: right;\n",
       "    }\n",
       "</style>\n",
       "<table border=\"1\" class=\"dataframe\">\n",
       "  <thead>\n",
       "    <tr style=\"text-align: right;\">\n",
       "      <th></th>\n",
       "      <th>review_id</th>\n",
       "      <th>order_id</th>\n",
       "      <th>review_score</th>\n",
       "    </tr>\n",
       "  </thead>\n",
       "  <tbody>\n",
       "    <tr>\n",
       "      <th>47045</th>\n",
       "      <td>00130cbe1f9d422698c812ed8ded1919</td>\n",
       "      <td>dfcdfc43867d1c1381bfaf62d6b9c195</td>\n",
       "      <td>1</td>\n",
       "    </tr>\n",
       "    <tr>\n",
       "      <th>30062</th>\n",
       "      <td>00130cbe1f9d422698c812ed8ded1919</td>\n",
       "      <td>04a28263e085d399c97ae49e0b477efa</td>\n",
       "      <td>1</td>\n",
       "    </tr>\n",
       "    <tr>\n",
       "      <th>63695</th>\n",
       "      <td>0115633a9c298b6a98bcbe4eee75345f</td>\n",
       "      <td>0c9850b2c179c1ef60d2855e2751d1fa</td>\n",
       "      <td>5</td>\n",
       "    </tr>\n",
       "    <tr>\n",
       "      <th>91399</th>\n",
       "      <td>0115633a9c298b6a98bcbe4eee75345f</td>\n",
       "      <td>78a4201f58af3463bdab842eea4bc801</td>\n",
       "      <td>5</td>\n",
       "    </tr>\n",
       "    <tr>\n",
       "      <th>57727</th>\n",
       "      <td>0174caf0ee5964646040cd94e15ac95e</td>\n",
       "      <td>74db91e33b4e1fd865356c89a61abf1f</td>\n",
       "      <td>1</td>\n",
       "    </tr>\n",
       "    <tr>\n",
       "      <th>93607</th>\n",
       "      <td>0174caf0ee5964646040cd94e15ac95e</td>\n",
       "      <td>f93a732712407c02dce5dd5088d0f47b</td>\n",
       "      <td>1</td>\n",
       "    </tr>\n",
       "    <tr>\n",
       "      <th>55259</th>\n",
       "      <td>017808d29fd1f942d97e50184dfb4c13</td>\n",
       "      <td>8daaa9e99d60fbba579cc1c3e3bfae01</td>\n",
       "      <td>5</td>\n",
       "    </tr>\n",
       "    <tr>\n",
       "      <th>99942</th>\n",
       "      <td>017808d29fd1f942d97e50184dfb4c13</td>\n",
       "      <td>b1461c8882153b5fe68307c46a506e39</td>\n",
       "      <td>5</td>\n",
       "    </tr>\n",
       "    <tr>\n",
       "      <th>20771</th>\n",
       "      <td>0254bd905dc677a6078990aad3331a36</td>\n",
       "      <td>5bf226cf882c5bf4247f89a97c86f273</td>\n",
       "      <td>1</td>\n",
       "    </tr>\n",
       "    <tr>\n",
       "      <th>96833</th>\n",
       "      <td>0254bd905dc677a6078990aad3331a36</td>\n",
       "      <td>331b367bdd766f3d1cf518777317b5d9</td>\n",
       "      <td>1</td>\n",
       "    </tr>\n",
       "  </tbody>\n",
       "</table>\n",
       "</div>"
      ],
      "text/plain": [
       "                              review_id                          order_id  \\\n",
       "47045  00130cbe1f9d422698c812ed8ded1919  dfcdfc43867d1c1381bfaf62d6b9c195   \n",
       "30062  00130cbe1f9d422698c812ed8ded1919  04a28263e085d399c97ae49e0b477efa   \n",
       "63695  0115633a9c298b6a98bcbe4eee75345f  0c9850b2c179c1ef60d2855e2751d1fa   \n",
       "91399  0115633a9c298b6a98bcbe4eee75345f  78a4201f58af3463bdab842eea4bc801   \n",
       "57727  0174caf0ee5964646040cd94e15ac95e  74db91e33b4e1fd865356c89a61abf1f   \n",
       "93607  0174caf0ee5964646040cd94e15ac95e  f93a732712407c02dce5dd5088d0f47b   \n",
       "55259  017808d29fd1f942d97e50184dfb4c13  8daaa9e99d60fbba579cc1c3e3bfae01   \n",
       "99942  017808d29fd1f942d97e50184dfb4c13  b1461c8882153b5fe68307c46a506e39   \n",
       "20771  0254bd905dc677a6078990aad3331a36  5bf226cf882c5bf4247f89a97c86f273   \n",
       "96833  0254bd905dc677a6078990aad3331a36  331b367bdd766f3d1cf518777317b5d9   \n",
       "\n",
       "       review_score  \n",
       "47045             1  \n",
       "30062             1  \n",
       "63695             5  \n",
       "91399             5  \n",
       "57727             1  \n",
       "93607             1  \n",
       "55259             5  \n",
       "99942             5  \n",
       "20771             1  \n",
       "96833             1  "
      ]
     },
     "metadata": {},
     "output_type": "display_data"
    }
   ],
   "source": [
    "# Check for duplicate review_ids\n",
    "total_reviews = len(reviews_df)\n",
    "unique_review_ids = reviews_df[\"review_id\"].nunique()\n",
    "duplicate_count = total_reviews - unique_review_ids\n",
    "\n",
    "print(\"Review ID Analysis:\")\n",
    "print(f\"  - Total reviews: {total_reviews:,}\")\n",
    "print(f\"  - Unique review IDs: {unique_review_ids:,}\")\n",
    "print(f\"  - Duplicate review IDs: {duplicate_count:,}\")\n",
    "print(f\"  - Duplicate percentage: {duplicate_count/total_reviews*100:.1f}%\")\n",
    "\n",
    "# Show examples of duplicate review_ids\n",
    "duplicates = (\n",
    "    reviews_df[reviews_df.duplicated(\"review_id\", keep=False)]\n",
    "    .sort_values(\"review_id\")\n",
    "    .head(10)\n",
    ")\n",
    "print(\"\\nFirst 10 duplicate review_ids:\")\n",
    "display(duplicates[[\"review_id\", \"order_id\", \"review_score\"]].head(10))\n"
   ]
  },
  {
   "cell_type": "markdown",
   "id": "dd598f75",
   "metadata": {
    "vscode": {
     "languageId": "raw"
    }
   },
   "source": [
    "## Issue 2: Invalid Seller References\n",
    "\n",
    "The `closed_deals` dataset contains `seller_id` values that don't exist in the `sellers` table, violating foreign key constraints."
   ]
  },
  {
   "cell_type": "code",
   "execution_count": 3,
   "id": "1a6ed7ce",
   "metadata": {},
   "outputs": [
    {
     "name": "stdout",
     "output_type": "stream",
     "text": [
      "Seller ID Analysis:\n",
      "  - Total closed deals: 842\n",
      "  - Deals with seller_id: 842\n",
      "  - Valid seller_ids: 3,095\n",
      "  - Invalid seller references: 462\n",
      "  - Invalid percentage: 54.9%\n",
      "\n",
      "First 5 invalid seller_ids:\n"
     ]
    },
    {
     "data": {
      "text/html": [
       "<div>\n",
       "<style scoped>\n",
       "    .dataframe tbody tr th:only-of-type {\n",
       "        vertical-align: middle;\n",
       "    }\n",
       "\n",
       "    .dataframe tbody tr th {\n",
       "        vertical-align: top;\n",
       "    }\n",
       "\n",
       "    .dataframe thead th {\n",
       "        text-align: right;\n",
       "    }\n",
       "</style>\n",
       "<table border=\"1\" class=\"dataframe\">\n",
       "  <thead>\n",
       "    <tr style=\"text-align: right;\">\n",
       "      <th></th>\n",
       "      <th>mql_id</th>\n",
       "      <th>seller_id</th>\n",
       "      <th>business_segment</th>\n",
       "    </tr>\n",
       "  </thead>\n",
       "  <tbody>\n",
       "    <tr>\n",
       "      <th>1</th>\n",
       "      <td>a555fb36b9368110ede0f043dfc3b9a0</td>\n",
       "      <td>bbb7d7893a450660432ea6652310ebb7</td>\n",
       "      <td>car_accessories</td>\n",
       "    </tr>\n",
       "    <tr>\n",
       "      <th>3</th>\n",
       "      <td>f5fee8f7da74f4887f5bcae2bafb6dd6</td>\n",
       "      <td>21e1781e36faf92725dde4730a88ca0f</td>\n",
       "      <td>food_drink</td>\n",
       "    </tr>\n",
       "    <tr>\n",
       "      <th>6</th>\n",
       "      <td>c3e30ed7ac989117c7e1e719b4ac128f</td>\n",
       "      <td>92d7568ad0c5c76fd7d341b2d46f24d6</td>\n",
       "      <td>computers</td>\n",
       "    </tr>\n",
       "    <tr>\n",
       "      <th>8</th>\n",
       "      <td>a90a37898cc5f2718385a2fb981caaff</td>\n",
       "      <td>0b28859cd04d23edefee9c591fb03cd8</td>\n",
       "      <td>household_utilities</td>\n",
       "    </tr>\n",
       "    <tr>\n",
       "      <th>10</th>\n",
       "      <td>4e4e70d504b4c0006c8287dedc99d0fc</td>\n",
       "      <td>f7a0d94e966c5665355a182d5b199fcf</td>\n",
       "      <td>construction_tools_house_garden</td>\n",
       "    </tr>\n",
       "  </tbody>\n",
       "</table>\n",
       "</div>"
      ],
      "text/plain": [
       "                              mql_id                         seller_id  \\\n",
       "1   a555fb36b9368110ede0f043dfc3b9a0  bbb7d7893a450660432ea6652310ebb7   \n",
       "3   f5fee8f7da74f4887f5bcae2bafb6dd6  21e1781e36faf92725dde4730a88ca0f   \n",
       "6   c3e30ed7ac989117c7e1e719b4ac128f  92d7568ad0c5c76fd7d341b2d46f24d6   \n",
       "8   a90a37898cc5f2718385a2fb981caaff  0b28859cd04d23edefee9c591fb03cd8   \n",
       "10  4e4e70d504b4c0006c8287dedc99d0fc  f7a0d94e966c5665355a182d5b199fcf   \n",
       "\n",
       "                   business_segment  \n",
       "1                   car_accessories  \n",
       "3                        food_drink  \n",
       "6                         computers  \n",
       "8               household_utilities  \n",
       "10  construction_tools_house_garden  "
      ]
     },
     "metadata": {},
     "output_type": "display_data"
    }
   ],
   "source": [
    "# Check for invalid seller_id references\n",
    "valid_seller_ids = set(sellers_df[\"seller_id\"])\n",
    "deals_with_seller_id = closed_deals_df.dropna(subset=[\"seller_id\"])\n",
    "\n",
    "invalid_sellers = deals_with_seller_id[\n",
    "    ~deals_with_seller_id[\"seller_id\"].isin(valid_seller_ids)\n",
    "]\n",
    "\n",
    "print(\"Seller ID Analysis:\")\n",
    "print(f\"  - Total closed deals: {len(closed_deals_df):,}\")\n",
    "print(f\"  - Deals with seller_id: {len(deals_with_seller_id):,}\")\n",
    "print(f\"  - Valid seller_ids: {len(sellers_df):,}\")\n",
    "print(f\"  - Invalid seller references: {len(invalid_sellers):,}\")\n",
    "print(f\"  - Invalid percentage: {\n",
    "    len(invalid_sellers)/len(deals_with_seller_id)*100:.1f\n",
    "}%\")\n",
    "\n",
    "# Show examples of invalid seller_ids\n",
    "print(\"\\nFirst 5 invalid seller_ids:\")\n",
    "display(invalid_sellers[[\"mql_id\", \"seller_id\", \"business_segment\"]].head())"
   ]
  },
  {
   "cell_type": "markdown",
   "id": "389f5665",
   "metadata": {
    "vscode": {
     "languageId": "raw"
    }
   },
   "source": [
    "## Data Quality Handling\n",
    "\n",
    "Our database loader handles these issues automatically:\n",
    "\n",
    "1. **Duplicate Review IDs**: Uses `DISTINCT ON (review_id)` to keep only the first occurrence of each review_id, ensuring PRIMARY KEY constraint compliance.\n",
    "\n",
    "2. **Invalid Seller References**: Filters out closed_deals with seller_ids that don't exist in the sellers table, ensuring FOREIGN KEY constraint compliance.\n",
    "\n",
    "These fixes ensure data integrity while preserving the maximum amount of usable data for analysis."
   ]
  }
 ],
 "metadata": {
  "kernelspec": {
   "display_name": ".venv",
   "language": "python",
   "name": "python3"
  },
  "language_info": {
   "codemirror_mode": {
    "name": "ipython",
    "version": 3
   },
   "file_extension": ".py",
   "mimetype": "text/x-python",
   "name": "python",
   "nbconvert_exporter": "python",
   "pygments_lexer": "ipython3",
   "version": "3.13.3"
  }
 },
 "nbformat": 4,
 "nbformat_minor": 5
}
